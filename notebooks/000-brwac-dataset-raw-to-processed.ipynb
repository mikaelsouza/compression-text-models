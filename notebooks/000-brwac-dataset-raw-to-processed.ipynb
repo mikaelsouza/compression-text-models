{
 "cells": [
  {
   "cell_type": "code",
   "execution_count": null,
   "metadata": {},
   "outputs": [],
   "source": [
    "import os\n",
    "\n",
    "PROJECT_NAME = \"compression-text-models\"\n",
    "\n",
    "curdir = os.path.abspath(os.path.curdir).split(\"/\")\n",
    "project_index = curdir.index(PROJECT_NAME)\n",
    "os.chdir(\"/\" + os.path.join(*curdir[:project_index + 1]))"
   ]
  },
  {
   "cell_type": "markdown",
   "metadata": {},
   "source": [
    "# General Info\n",
    "\n",
    "In this notebook, we explore how to convert the raw data from brwac dataset, where each doc is represented as a list of paragraphs into a dataset where each doc is represented by a string."
   ]
  },
  {
   "cell_type": "code",
   "execution_count": null,
   "metadata": {},
   "outputs": [],
   "source": [
    "from datasets import load_dataset\n",
    "from os import cpu_count\n",
    "from typing import List\n",
    "from itertools import chain\n",
    "\n",
    "def join_document_paragraphs(doc_paragraphs: List[List[str]]) -> str:\n",
    "    paragraphs = ' '.join(chain(*doc_paragraphs['text']['paragraphs']))\n",
    "    return {\"processed_text\": paragraphs}\n",
    "\n",
    "\n",
    "brwac_ds = load_dataset(\n",
    "    path=\"brwac\",\n",
    "    data_dir=\"data/raw/brwac\",\n",
    ")\n",
    "brwac_ds['train'] = brwac_ds['train'].map(join_document_paragraphs, num_proc=cpu_count())\n",
    "brwac_ds = brwac_ds['train'].remove_columns(['text'])\n",
    "brwac_ds.save_to_disk('data/processed/brwac-000')"
   ]
  }
 ],
 "metadata": {
  "interpreter": {
   "hash": "b46046abd090b256483f7836ce4cd283a1b70ae80cca93f30a5892f21b1560c7"
  },
  "kernelspec": {
   "display_name": "Python 3.10.4 ('compression-text-models-h17r-dVp-py3.10')",
   "language": "python",
   "name": "python3"
  },
  "language_info": {
   "codemirror_mode": {
    "name": "ipython",
    "version": 3
   },
   "file_extension": ".py",
   "mimetype": "text/x-python",
   "name": "python",
   "nbconvert_exporter": "python",
   "pygments_lexer": "ipython3",
   "version": "3.10.4"
  },
  "orig_nbformat": 4
 },
 "nbformat": 4,
 "nbformat_minor": 2
}
