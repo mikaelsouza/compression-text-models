{
 "cells": [
  {
   "cell_type": "code",
   "execution_count": 1,
   "metadata": {},
   "outputs": [],
   "source": [
    "import os\n",
    "\n",
    "PROJECT_NAME = \"compression-text-models\"\n",
    "\n",
    "curdir = os.path.abspath(os.path.curdir).split(\"/\")\n",
    "project_index = curdir.index(PROJECT_NAME)\n",
    "os.chdir(\"/\" + os.path.join(*curdir[:project_index + 1]))"
   ]
  },
  {
   "cell_type": "code",
   "execution_count": 2,
   "metadata": {},
   "outputs": [],
   "source": [
    "from datasets.load import load_from_disk\n",
    "\n",
    "brwac_ds = load_from_disk(\n",
    "    dataset_path=\"data/processed/brwac-000\",\n",
    ")"
   ]
  },
  {
   "cell_type": "code",
   "execution_count": 3,
   "metadata": {},
   "outputs": [
    {
     "name": "stderr",
     "output_type": "stream",
     "text": [
      "100%|██████████| 3530796/3530796 [54:06<00:00, 1087.51it/s] \n"
     ]
    }
   ],
   "source": [
    "import tqdm\n",
    "\n",
    "with open(\"data/clean/brwac-sentences.txt\", 'w') as f:\n",
    "    for sample in tqdm.tqdm(brwac_ds['train']):\n",
    "        sentence = sample['processed_text'] + \"\\n\"\n",
    "        f.write(sentence)"
   ]
  }
 ],
 "metadata": {
  "kernelspec": {
   "display_name": "Python 3.8.10 ('compression-text-models-fmgxBqLT-py3.8')",
   "language": "python",
   "name": "python3"
  },
  "language_info": {
   "codemirror_mode": {
    "name": "ipython",
    "version": 3
   },
   "file_extension": ".py",
   "mimetype": "text/x-python",
   "name": "python",
   "nbconvert_exporter": "python",
   "pygments_lexer": "ipython3",
   "version": "3.8.10"
  },
  "orig_nbformat": 4,
  "vscode": {
   "interpreter": {
    "hash": "7f100f66c9b41ceea0e3b5f026313cb1e6469ea04468aa1f9f63af1de251c63a"
   }
  }
 },
 "nbformat": 4,
 "nbformat_minor": 2
}
