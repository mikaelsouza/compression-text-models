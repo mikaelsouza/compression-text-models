{
 "cells": [
  {
   "cell_type": "code",
   "execution_count": 1,
   "metadata": {},
   "outputs": [],
   "source": [
    "import os\n",
    "\n",
    "PROJECT_NAME = \"compression-text-models\"\n",
    "\n",
    "curdir = os.path.abspath(os.path.curdir).split(\"/\")\n",
    "project_index = curdir.index(PROJECT_NAME)\n",
    "os.chdir(\"/\" + os.path.join(*curdir[:project_index + 1]))"
   ]
  },
  {
   "cell_type": "markdown",
   "metadata": {},
   "source": [
    "In this notebook, we'll check what are the outputs of the `distilbert/scripts/binarized.py` and `distilbert/scripts/token_counts.py` are and reimplement them using multiprocessing.\n",
    "\n",
    "Fist let's check out the result of the binarized data generated with the `data/clean/brwac-separated-sentences.txt` document.\n",
    "\n",
    "This data was saved on `data/procesed/brwac-tokenized/brwac-joined-pagragraphs/tokenized-sentences.pickle`"
   ]
  },
  {
   "cell_type": "code",
   "execution_count": 2,
   "metadata": {},
   "outputs": [],
   "source": [
    "import multiprocessing"
   ]
  },
  {
   "cell_type": "code",
   "execution_count": 3,
   "metadata": {},
   "outputs": [],
   "source": [
    "import pickle\n",
    "\n",
    "data_path = \"data/processed/brwac-tokenized/brwac-joined-paragraphs/tokenized-sentences.pickle\"\n",
    "\n",
    "with open(data_path, 'rb') as f:\n",
    "    data = pickle.load(f)"
   ]
  },
  {
   "cell_type": "code",
   "execution_count": 4,
   "metadata": {},
   "outputs": [
    {
     "data": {
      "text/plain": [
       "(list,\n",
       " numpy.ndarray,\n",
       " array([  101,  8917, 21010, 22281,  1040,   120, 18506,   120,  1492,\n",
       "         4301, 18169, 10429,   259, 11963,  7245,  3570,   710,  4907,\n",
       "         1451,   202,  1508,  4549,  1095,  4484,   125,  2054, 15803,\n",
       "          173,  8331,   171,  2285,   161, 22316,   177,  7639,  3559,\n",
       "          125, 19768,   125,  8331,   171,  2285,   161, 22316,  4172,\n",
       "         1790,   202,  7391,  4782,  1516,   148,  2974,  2532,  1430,\n",
       "          180,  5642, 19700,   125, 11327, 22290,   842,   117,   179,\n",
       "          253, 14833,   423,  7305,   367,  5523,  6704, 21304,   247,\n",
       "          222,  1160, 18169,   179, 14660,   260, 15947,   180,   100,\n",
       "         2156,  1508,  4549,  1095,  4484,   125,  2054, 15803,   125,\n",
       "         8331,   171,  2285,   161, 22316,   117,   122,   146,  7245,\n",
       "         3570,   710,  4907,  1451,  1023,   532, 11963, 13207,   119,\n",
       "          231,  7245, 18360,   327,  3035,   202, 14157,   117,   644,\n",
       "        19148,   120, 16394,   117,   123,  1018,   297,   131,  3055,\n",
       "         2856,  9572,   598,   146,  3021, 11163, 22281,   125,  1613,\n",
       "        11837,  7715,   994,   117,   744,  4366,   670,   180,  6890,\n",
       "          171,  7245,   146, 15296, 10505,   125, 14020,   117, 11944,\n",
       "          324, 22284,   171, 10875,   201,   385,  1609,  1103,   559,\n",
       "          247,   125, 11327, 22290,   842,   122, 17553,  1313,   171,\n",
       "        10875,   201,  6143,  2030, 14119,  1103,   559,   247,   125,\n",
       "         7212,   171,  2285,   161, 22316,   119,  4469, 22285,  5438,\n",
       "          146,  8965,   125, 19768,   125,  8331,   171,  2285,   161,\n",
       "        22316,  2541, 21417,   159,  1485,   260,  3702,   173,   675,\n",
       "        12101, 22281, 15947,   122,   123,   100,  6035,   180,  3109,\n",
       "          117,  1502,   146,   653,   744, 16258,  3030,  7831,   123,\n",
       "         6858,   119,  2501,   128,   744,   271,  7116,   125,   710,\n",
       "         1505,   171, 10511, 19328, 22283,   117,   146,  7354,   404,\n",
       "          171,  1640, 17034,   117,   122,   173,  5255, 13945,   128,\n",
       "         3201,  4212,  1485,   260,  1876,   591,  2990,  1478,   117,\n",
       "          146, 20837,  2541, 14812,  1485,   260, 11489,   562,   298,\n",
       "         6873,   125,   710,  1505,   171, 10511, 19328, 22283,  4922,\n",
       "         3109,   117,   271, 14619,   210,  1485,   260, 11489,   562,\n",
       "        15762,   123,  3109,   179,  6224, 21417,   401,   423,  8965,\n",
       "         5049,  1743, 22278,   119,   102], dtype=uint16))"
      ]
     },
     "execution_count": 4,
     "metadata": {},
     "output_type": "execute_result"
    }
   ],
   "source": [
    "# checking an example\n",
    "\n",
    "type(data), type(data[0]), data[0]"
   ]
  },
  {
   "cell_type": "markdown",
   "metadata": {},
   "source": [
    "It seems our data was tokenized by the `neuralmind/bert-base-portuguese-cased` tokenizer.\n",
    "\n",
    "The result is a list of `numpy.ndarray` containing the tokens of each sentence.\n",
    "\n",
    "We can try to convert one of these sentences back to their original state to check if it matches with the original text"
   ]
  },
  {
   "cell_type": "code",
   "execution_count": 5,
   "metadata": {},
   "outputs": [
    {
     "data": {
      "text/plain": [
       "'[CLS] Páginas 17 / 07 / 13 Novo sorteio define os adversários Sport Clube São Joseense no Intermunicipal de Futsal em Santana do Seridó A Secretaria Municipal de Esportes de Santana do Seridó realizou hoje no Programa Panorama Esportivo da Rádio Rural de Parelhas, que é comandado pelo reporter Antonio Januario um novo sorteio que definiu as chaves da [UNK] Copa Intermunicipal de Futsal de Santana do Seridó, e o Sport Clube São Joseense teve seus adversários definidos. O Sport fará sua estreia no sábado, dia 03 / 08, a partir 20 : 50 horas jogando contra o Samboys de Juazeirinho, ainda fazem parte da chave do Sport o Bela Vista de Equador, Satnad do Povoado Cobra municipio de Parelhas e Olarias do Povoado Currais Novos municipio de Jardim do Seridó. Amanhã o Secretário de Esportes de Santana do Seridó vai repassar todas as equipes em suas referidas chaves e a [UNK] rodada da competição, pois o mesmo ainda tá fechando a tabela. Temos ainda como representante de São José do Sabugi, o Atenda do presidente Cícero, e em breve estaremos divulgando todas as informadas dessa equipe, o blog vai divulgar todas as noticias dos representantes de São José do Sabugi nessa competição, como tambem todas as noticias referente a competição que serão repassadas pelo Secretário Alexandre lima. [SEP]'"
      ]
     },
     "execution_count": 5,
     "metadata": {},
     "output_type": "execute_result"
    }
   ],
   "source": [
    "import transformers\n",
    "\n",
    "tk = transformers.AutoTokenizer.from_pretrained('neuralmind/bert-base-portuguese-cased')\n",
    "tk.decode(data[0])"
   ]
  },
  {
   "cell_type": "markdown",
   "metadata": {},
   "source": [
    "Let's compare this to the original sentence. Unfortunately, the `distilbert/scripts/binazrized.py` makes our sentence order random, so we need to search for this paragraph in all sentences."
   ]
  },
  {
   "cell_type": "code",
   "execution_count": 6,
   "metadata": {},
   "outputs": [
    {
     "data": {
      "text/plain": [
       "['Páginas 17/07/13 Novo sorteio define os adversários Sport Clube São Joseense no Intermunicipal de Futsal em Santana do Seridó A Secretaria Municipal de Esportes de Santana do Seridó realizou hoje no Programa Panorama Esportivo da Rádio Rural de Parelhas, que é comandado pelo reporter Antonio Januario um novo sorteio que definiu as chaves da 9ª Copa Intermunicipal de Futsal de Santana do Seridó, e o Sport Clube São Joseense teve seus adversários definidos.O Sport fará sua estreia no sábado, dia 03/08, a partir 20:50 horas jogando contra o Samboys de Juazeirinho, ainda fazem parte da chave do Sport o Bela Vista de Equador, Satnad do Povoado Cobra municipio de Parelhas e Olarias do Povoado Currais Novos municipio de Jardim do Seridó. Amanhã o Secretário de Esportes de Santana do Seridó vai repassar todas as equipes em suas referidas chaves e a 1ª rodada da competição, pois o mesmo ainda tá fechando a tabela.Temos ainda como representante de São José do Sabugi, o Atenda do presidente Cícero, e em breve estaremos divulgando todas as informadas dessa equipe, o blog vai divulgar todas as noticias dos representantes de São José do Sabugi nessa competição, como tambem todas as noticias referente a competição que serão repassadas pelo Secretário Alexandre lima.\\n']"
      ]
     },
     "execution_count": 6,
     "metadata": {},
     "output_type": "execute_result"
    }
   ],
   "source": [
    "sentences_path = 'data/clean/brwac-joined-sentences.txt'\n",
    "\n",
    "with open(sentences_path, \"r\") as f:\n",
    "    sentences = f.readlines()\n",
    "sentence = list(filter(lambda x: x.startswith(\"Páginas 17/07/13\"), sentences))\n",
    "sentence"
   ]
  },
  {
   "cell_type": "markdown",
   "metadata": {},
   "source": [
    "This looks good enough to prove that the script is just tokenizing our dataset.\n",
    "\n",
    "The final data then is a list of arrays pickled into a file. I'll try to reimplement it so we can paralelize this process later."
   ]
  },
  {
   "cell_type": "code",
   "execution_count": 7,
   "metadata": {},
   "outputs": [
    {
     "name": "stderr",
     "output_type": "stream",
     "text": [
      "100%|██████████| 3530796/3530796 [39:05<00:00, 1505.52it/s] \n"
     ]
    }
   ],
   "source": [
    "import numpy as np\n",
    "\n",
    "import tqdm\n",
    "\n",
    "def f(x):\n",
    "    return np.uint16(tk.encode(x))\n",
    "\n",
    "with multiprocessing.Pool(12) as p:\n",
    "    result = list(tqdm.tqdm(p.imap(f, sentences), total=len(sentences)))"
   ]
  },
  {
   "cell_type": "code",
   "execution_count": 10,
   "metadata": {},
   "outputs": [
    {
     "data": {
      "text/plain": [
       "array([  101, 11433, 22332,   243,  6240, 20697, 22341,  4790, 18471,\n",
       "       22322,  9689, 22311,   187, 18394,  4790,  9545,   107,   248,\n",
       "        7073, 22328, 22341, 22352, 22311,   213,  5054,  5476, 22309,\n",
       "         107,  3199,   125,  4868,   125,  4155,   117,   977,   131,\n",
       "       18506,   117,   240,  4735, 22280,   331,  7326,   255,  2224,\n",
       "         118,   196,   409,  3185, 22279,  3370,  7127,   446, 12230,\n",
       "         145,  8627,   191,  4759,   735,   119, 10247,  1088,  2303,\n",
       "       14979,  1176,   299,  8718,  3549, 22327,   192, 22327,  9208,\n",
       "       22322, 22447, 22320,  6162, 22317,   250, 22301,   290, 22327,\n",
       "       18394, 15040,   213,  9008,  1431,   730,   809, 18430, 13389,\n",
       "         376,  1183,  1859,   170,  5678,   229,  7592,   125, 11205,\n",
       "         119,   503,  2947,   125, 11912,   740,  3379, 15221,   251,\n",
       "         122,   346,  3196,   785,   123,  3855,   119,   409,  4397,\n",
       "        3391, 22280,   171,   177, 12429,   117,   170,  1615,  8483,\n",
       "         117,   740,  3379, 14777,   285,   119,   989,  6904,  4945,\n",
       "         179,   418,   730,   809, 17253,   698,  2920,   117,   625,\n",
       "        9427, 22278,   119, 12018,  2726,  3233, 22284,   270,   125,\n",
       "         730,   809,  8749,   123, 19195, 22282,   202,  2363,   117,\n",
       "         337,  5321,   180,  7592,   171,   617, 19161,   119, 15807,\n",
       "         706,  4503,   229, 12927,  2166,  3028,   117, 19488,   123,\n",
       "       10205, 22247,   122,  7855,   125, 12121,   117,  2748,  4270,\n",
       "         173,  4938,   170,   146,  3834,   119,   102], dtype=uint16)"
      ]
     },
     "execution_count": 10,
     "metadata": {},
     "output_type": "execute_result"
    }
   ],
   "source": [
    "result[0]"
   ]
  },
  {
   "cell_type": "markdown",
   "metadata": {},
   "source": [
    "Now let's compare this result with the result generated by the huggingface's code"
   ]
  },
  {
   "cell_type": "code",
   "execution_count": 11,
   "metadata": {},
   "outputs": [],
   "source": [
    "import pickle\n",
    "\n",
    "tokenized_path = \"data/processed/brwac-tokenized/brwac-joined-paragraphs/tokenized-sentences.pickle\"\n",
    "\n",
    "with open(tokenized_path, 'rb') as f:\n",
    "    data = pickle.load(f)"
   ]
  },
  {
   "cell_type": "markdown",
   "metadata": {},
   "source": [
    "Unfortunately the datasets are not in the same order, so there's not an elegant way to compare them both fast."
   ]
  },
  {
   "cell_type": "code",
   "execution_count": 31,
   "metadata": {},
   "outputs": [
    {
     "name": "stderr",
     "output_type": "stream",
     "text": [
      "100%|██████████| 3530796/3530796 [04:16<00:00, 13746.32it/s]\n",
      "100%|██████████| 3530796/3530796 [04:15<00:00, 13814.56it/s]\n"
     ]
    }
   ],
   "source": [
    "from collections import defaultdict\n",
    "\n",
    "d = defaultdict(int)\n",
    "\n",
    "for array in tqdm.tqdm(result):\n",
    "    d[str(array.tolist()).strip()] += 1\n",
    "for array in tqdm.tqdm(data):\n",
    "    d[str(array.tolist()).strip()] += 1"
   ]
  },
  {
   "cell_type": "code",
   "execution_count": 32,
   "metadata": {},
   "outputs": [
    {
     "data": {
      "text/plain": [
       "Counter({2: 3527035, 4: 1842, 6: 15, 1: 46, 10: 1, 8: 1})"
      ]
     },
     "execution_count": 32,
     "metadata": {},
     "output_type": "execute_result"
    }
   ],
   "source": [
    "from collections import Counter\n",
    "\n",
    "Counter(list(d.values()))"
   ]
  },
  {
   "cell_type": "code",
   "execution_count": null,
   "metadata": {},
   "outputs": [],
   "source": []
  }
 ],
 "metadata": {
  "kernelspec": {
   "display_name": "Python 3.8.10 ('compression-text-models-fmgxBqLT-py3.8')",
   "language": "python",
   "name": "python3"
  },
  "language_info": {
   "codemirror_mode": {
    "name": "ipython",
    "version": 3
   },
   "file_extension": ".py",
   "mimetype": "text/x-python",
   "name": "python",
   "nbconvert_exporter": "python",
   "pygments_lexer": "ipython3",
   "version": "3.8.10"
  },
  "orig_nbformat": 4,
  "vscode": {
   "interpreter": {
    "hash": "7f100f66c9b41ceea0e3b5f026313cb1e6469ea04468aa1f9f63af1de251c63a"
   }
  }
 },
 "nbformat": 4,
 "nbformat_minor": 2
}
