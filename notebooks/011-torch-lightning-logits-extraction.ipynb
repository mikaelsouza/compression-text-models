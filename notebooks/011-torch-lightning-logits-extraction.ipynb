{
 "cells": [
  {
   "cell_type": "code",
   "execution_count": 1,
   "metadata": {},
   "outputs": [],
   "source": [
    "import os\n",
    "\n",
    "PROJECT_NAME = \"compression-text-models\"\n",
    "\n",
    "curdir = os.path.abspath(os.path.curdir).split(\"/\")\n",
    "project_index = curdir.index(PROJECT_NAME)\n",
    "os.chdir(\"/\" + os.path.join(*curdir[: project_index + 1]))\n"
   ]
  },
  {
   "cell_type": "code",
   "execution_count": 2,
   "metadata": {},
   "outputs": [
    {
     "name": "stderr",
     "output_type": "stream",
     "text": [
      "Some weights of the model checkpoint at neuralmind/bert-base-portuguese-cased were not used when initializing BertForMaskedLM: ['cls.seq_relationship.weight', 'cls.seq_relationship.bias']\n",
      "- This IS expected if you are initializing BertForMaskedLM from the checkpoint of a model trained on another task or with another architecture (e.g. initializing a BertForSequenceClassification model from a BertForPreTraining model).\n",
      "- This IS NOT expected if you are initializing BertForMaskedLM from the checkpoint of a model that you expect to be exactly identical (initializing a BertForSequenceClassification model from a BertForSequenceClassification model).\n"
     ]
    }
   ],
   "source": [
    "import transformers\n",
    "\n",
    "teacher_name = \"neuralmind/bert-base-portuguese-cased\"\n",
    "\n",
    "tokenizer = transformers.BertTokenizer.from_pretrained(\n",
    "    teacher_name,\n",
    ")\n",
    "\n",
    "teacher_model = transformers.BertForMaskedLM.from_pretrained(\n",
    "    teacher_name,\n",
    "    output_hidden_states=True,\n",
    ")\n",
    "teacher_model = teacher_model.to(\"cuda\")\n",
    "teacher_model = teacher_model.eval()\n"
   ]
  },
  {
   "cell_type": "code",
   "execution_count": 3,
   "metadata": {},
   "outputs": [],
   "source": [
    "import pytorch_lightning as pl\n",
    "import torch\n",
    "\n",
    "from src.fastdistillation import lm_seqs_dataset\n",
    "\n",
    "data_path = \"data/bin/tokenized-tensor-int16.pt\"\n",
    "data = torch.load(data_path)\n",
    "\n",
    "token_ids, attention_mask = data, (data != 0).byte()\n",
    "\n",
    "dataset = lm_seqs_dataset.LmSeqsDataset(token_ids, attention_mask)\n",
    "data_loader = torch.utils.data.DataLoader(\n",
    "    dataset, batch_size=32, num_workers=8, pin_memory=True\n",
    ")\n"
   ]
  },
  {
   "cell_type": "code",
   "execution_count": 4,
   "metadata": {},
   "outputs": [
    {
     "ename": "SyntaxError",
     "evalue": "invalid syntax (train_model.py, line 5)",
     "output_type": "error",
     "traceback": [
      "Traceback \u001b[0;36m(most recent call last)\u001b[0m:\n",
      "  File \u001b[1;32m~/.cache/pypoetry/virtualenvs/compression-text-models-fmgxBqLT-py3.8/lib/python3.8/site-packages/IPython/core/interactiveshell.py:3398\u001b[0m in \u001b[1;35mrun_code\u001b[0m\n    exec(code_obj, self.user_global_ns, self.user_ns)\n",
      "\u001b[0;36m  Input \u001b[0;32mIn [4]\u001b[0;36m in \u001b[0;35m<cell line: 1>\u001b[0;36m\u001b[0m\n\u001b[0;31m    from src.fastdistillation.train_model import DistillationTrainModel\u001b[0m\n",
      "\u001b[0;36m  File \u001b[0;32m~/compression-text-models/src/fastdistillation/train_model.py:5\u001b[0;36m\u001b[0m\n\u001b[0;31m    def DistillationTrainModel(pl.LightningModule):\u001b[0m\n\u001b[0m                                 ^\u001b[0m\n\u001b[0;31mSyntaxError\u001b[0m\u001b[0;31m:\u001b[0m invalid syntax\n"
     ]
    }
   ],
   "source": [
    "from src.fastdistillation.train_model import DistillationTrainModel"
   ]
  },
  {
   "cell_type": "code",
   "execution_count": null,
   "metadata": {},
   "outputs": [],
   "source": []
  }
 ],
 "metadata": {
  "kernelspec": {
   "display_name": "Python 3.8.10 ('compression-text-models-fmgxBqLT-py3.8')",
   "language": "python",
   "name": "python3"
  },
  "language_info": {
   "codemirror_mode": {
    "name": "ipython",
    "version": 3
   },
   "file_extension": ".py",
   "mimetype": "text/x-python",
   "name": "python",
   "nbconvert_exporter": "python",
   "pygments_lexer": "ipython3",
   "version": "3.8.10"
  },
  "orig_nbformat": 4,
  "vscode": {
   "interpreter": {
    "hash": "7f100f66c9b41ceea0e3b5f026313cb1e6469ea04468aa1f9f63af1de251c63a"
   }
  }
 },
 "nbformat": 4,
 "nbformat_minor": 2
}
